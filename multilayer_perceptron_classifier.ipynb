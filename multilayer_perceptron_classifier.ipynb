{
  "cells": [
    {
      "cell_type": "markdown",
      "metadata": {
        "id": "sAqFvZs6imq2"
      },
      "source": [
        "# Multilayer Perceptron Classifier\n",
        "*Siew Wei Feng*"
      ]
    },
    {
      "cell_type": "markdown",
      "metadata": {},
      "source": [
        "### Load data"
      ]
    },
    {
      "cell_type": "code",
      "execution_count": null,
      "metadata": {},
      "outputs": [],
      "source": [
        "import pickle\n",
        "\n",
        "#to reaccess\n",
        "f = open('x_train.pckl', 'rb')\n",
        "x_train = pickle.load(f)\n",
        "f.close()\n",
        "\n",
        "f = open('x_test.pckl', 'rb')\n",
        "x_test = pickle.load(f)\n",
        "f.close()\n",
        "\n",
        "f = open('y_train.pckl', 'rb')\n",
        "y_train = pickle.load(f)\n",
        "f.close()\n",
        "\n",
        "f = open('y_test.pckl', 'rb')\n",
        "y_test = pickle.load(f)\n",
        "f.close()"
      ]
    },
    {
      "cell_type": "markdown",
      "metadata": {},
      "source": [
        "### Rescale and reformat data"
      ]
    },
    {
      "cell_type": "code",
      "execution_count": null,
      "metadata": {},
      "outputs": [],
      "source": [
        "import pandas as pd\n",
        "x = pd.concat([x_train, x_test])\n",
        "y = pd.concat([y_train, y_test])"
      ]
    },
    {
      "cell_type": "code",
      "execution_count": null,
      "metadata": {},
      "outputs": [],
      "source": [
        "from sklearn.preprocessing import MinMaxScaler\n",
        "\n",
        "#rescale values in each column to between 0 and 1\n",
        "scaler = MinMaxScaler()\n",
        "scaler.fit(x)\n",
        "max = scaler.data_max_ # get max values in each column\n",
        "x= scaler.transform(x)\n",
        "x= pd.DataFrame(x)\n",
        "x = pd.DataFrame.to_numpy(x)"
      ]
    },
    {
      "cell_type": "code",
      "execution_count": null,
      "metadata": {},
      "outputs": [],
      "source": [
        "#change to desired format\n",
        "y = (pd.DataFrame.to_numpy(y)).reshape((len(y),))"
      ]
    },
    {
      "cell_type": "markdown",
      "metadata": {},
      "source": [
        "### Mulitilayer perceptron classifier parameters"
      ]
    },
    {
      "cell_type": "code",
      "execution_count": null,
      "metadata": {},
      "outputs": [],
      "source": [
        "import warnings\n",
        "warnings.filterwarnings('ignore')  # early-stop warnings\n",
        "\n",
        "from sklearn.neural_network import MLPClassifier\n",
        "\n",
        "params = { 'hidden_layer_sizes': [300,300,300],\n",
        "           'activation' : 'relu', 'solver' : 'sgd',\n",
        "            'alpha' : 0.001, 'batch_size' : 50,\n",
        "            'random_state' : 0, 'tol' : 0.0001,\n",
        "            'nesterovs_momentum' : False,\n",
        "            'learning_rate' : 'constant',\n",
        "            'learning_rate_init' : 0.01,\n",
        "            'max_iter' : 10000, 'shuffle' : True,\n",
        "            'n_iter_no_change' : 50, 'verbose' : False }\n",
        "                                     \n",
        "mlpc = MLPClassifier(**params) # ANN model object created"
      ]
    },
    {
      "cell_type": "markdown",
      "metadata": {},
      "source": [
        "### Model training and evaluation (5-fold cross validation)"
      ]
    },
    {
      "cell_type": "code",
      "execution_count": null,
      "metadata": {},
      "outputs": [],
      "source": [
        "from sklearn.model_selection import KFold\n",
        "from sklearn.metrics import accuracy_score, precision_score, recall_score, f1_score\n",
        "from statistics import mean\n",
        "\n",
        "def k_fold_cross_validation_scores(clf,x,y,k):\n",
        "\n",
        "    kf = KFold(n_splits =k, shuffle= True, random_state= 21)\n",
        "\n",
        "    Tot_acc=[]\n",
        "    Tot_pre=[]\n",
        "    Tot_rec=[]\n",
        "    Tot_f1=[]\n",
        "\n",
        "    i=0\n",
        "\n",
        "    for train, test in kf.split(x):\n",
        "\n",
        "        i=i+1\n",
        "        print(\"\\nFold %d\" %(i))\n",
        "        \n",
        "        x_train, x_test = x[train],  x[test]\n",
        "        y_train, y_test = y[train], y[test]\n",
        "        y_pred = clf.fit(x_train, y_train).predict(x_test)\n",
        "\n",
        "        acc=accuracy_score(y_test, y_pred)\n",
        "        pre=precision_score(y_test, y_pred)\n",
        "        rec=recall_score(y_test, y_pred)\n",
        "        f1=f1_score(y_test, y_pred)\n",
        "        \n",
        "        Tot_acc.append(acc)\n",
        "        Tot_pre.append(pre)\n",
        "        Tot_rec.append(rec)\n",
        "        Tot_f1.append(f1)\n",
        "\n",
        "    print (\"\\nAverage Accuracy: %2.3f\" % (mean(Tot_acc)))\n",
        "    print (\"\\nAverage Precision: %2.3f\" % (mean(Tot_pre)))\n",
        "    print (\"\\nAverage Recall: %2.3f\" % (mean(Tot_rec)))\n",
        "    print (\"\\nAverage F1-score: %2.3f\" % (mean(Tot_f1)))"
      ]
    },
    {
      "cell_type": "code",
      "execution_count": null,
      "metadata": {},
      "outputs": [
        {
          "name": "stdout",
          "output_type": "stream",
          "text": [
            "\n",
            "Fold 1\n",
            "\n",
            "Fold 2\n",
            "\n",
            "Fold 3\n",
            "\n",
            "Fold 4\n",
            "\n",
            "Fold 5\n",
            "\n",
            "Average Accuracy: 0.586\n",
            "\n",
            "Average Precision: 0.583\n",
            "\n",
            "Average Recall: 0.609\n",
            "\n",
            "Average F1-score: 0.595\n"
          ]
        }
      ],
      "source": [
        "k_fold_cross_validation_scores(clf= mlpc,x=x,y= y,k=5)"
      ]
    }
  ],
  "metadata": {
    "colab": {
      "provenance": [],
      "toc_visible": true
    },
    "kernelspec": {
      "display_name": "Python 3",
      "language": "python",
      "name": "python3"
    },
    "language_info": {
      "codemirror_mode": {
        "name": "ipython",
        "version": 3
      },
      "file_extension": ".py",
      "mimetype": "text/x-python",
      "name": "python",
      "nbconvert_exporter": "python",
      "pygments_lexer": "ipython3",
      "version": "3.9.7"
    }
  },
  "nbformat": 4,
  "nbformat_minor": 0
}
