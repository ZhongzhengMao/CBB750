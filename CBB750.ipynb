{
 "cells": [
  {
   "cell_type": "code",
   "execution_count": 1,
   "id": "893a07b6",
   "metadata": {
    "scrolled": false
   },
   "outputs": [],
   "source": [
    "import pickle as pkl\n",
    "import pandas as pd\n",
    "import numpy as np\n",
    "from sklearn.model_selection import train_test_split, KFold\n",
    "from sklearn.feature_extraction.text import TfidfVectorizer\n",
    "from sklearn.svm import SVC\n",
    "from sklearn.metrics import accuracy_score, precision_score, recall_score, f1_score\n",
    "from sklearn.linear_model import LogisticRegression\n",
    "from sklearn.ensemble import RandomForestClassifier\n",
    "import random\n",
    "from sklearn.preprocessing import MinMaxScaler\n",
    "from statistics import mean"
   ]
  },
  {
   "cell_type": "code",
   "execution_count": 2,
   "id": "617bb3d4",
   "metadata": {
    "scrolled": true
   },
   "outputs": [],
   "source": [
    "train_df = pd.read_pickle('pdb_train.p')\n",
    "test_df = pd.read_pickle('pdb_test.p')"
   ]
  },
  {
   "cell_type": "code",
   "execution_count": 3,
   "id": "9004d603",
   "metadata": {},
   "outputs": [
    {
     "data": {
      "text/html": [
       "<div>\n",
       "<style scoped>\n",
       "    .dataframe tbody tr th:only-of-type {\n",
       "        vertical-align: middle;\n",
       "    }\n",
       "\n",
       "    .dataframe tbody tr th {\n",
       "        vertical-align: top;\n",
       "    }\n",
       "\n",
       "    .dataframe thead th {\n",
       "        text-align: right;\n",
       "    }\n",
       "</style>\n",
       "<table border=\"1\" class=\"dataframe\">\n",
       "  <thead>\n",
       "    <tr style=\"text-align: right;\">\n",
       "      <th></th>\n",
       "      <th>pdb_id</th>\n",
       "      <th>lig_id</th>\n",
       "      <th>seq</th>\n",
       "      <th>smiles</th>\n",
       "      <th>receptor_features</th>\n",
       "      <th>ligand_xyz</th>\n",
       "      <th>ligand_xyz_2d</th>\n",
       "      <th>ligand_bonds</th>\n",
       "    </tr>\n",
       "  </thead>\n",
       "  <tbody>\n",
       "    <tr>\n",
       "      <th>0</th>\n",
       "      <td>1ict</td>\n",
       "      <td>T44</td>\n",
       "      <td>CPLMVKVLDAVRGSPAINVAVHVFRKAADDTWEPFASGKTSESGEL...</td>\n",
       "      <td>N[C@@H](Cc1cc(I)c(Oc2cc(I)c(O)c(I)c2)c(I)c1)C(...</td>\n",
       "      <td>{'rigidgroups_gt_frames': [[[[ 9.7112149e-01 -...</td>\n",
       "      <td>[(-7.698, -45.225, 30.127), (-6.968, -45.819, ...</td>\n",
       "      <td>[(-5.063699296693056, 1.3648647122225173, 0.0)...</td>\n",
       "      <td>[(4, 6), (6, 7), (7, 11), (11, 32), (32, 36), ...</td>\n",
       "    </tr>\n",
       "    <tr>\n",
       "      <th>1</th>\n",
       "      <td>1v1j</td>\n",
       "      <td>FA3</td>\n",
       "      <td>PRSLANAPIMILNGPNLNLLGQRQPEIYGSDTLADVEALCVKAAAA...</td>\n",
       "      <td>O=C(O)[C@]1(O)C=C(F)[C@@H](O)[C@H](O)C1</td>\n",
       "      <td>{'rigidgroups_gt_frames': [[[[-0.09479982 -0.8...</td>\n",
       "      <td>[(30.735, 53.717, 58.584), (nan, nan, nan), (2...</td>\n",
       "      <td>[(2.3944077361532012, 1.7261843001158517, 0.0)...</td>\n",
       "      <td>[(25, 15), (15, 21), (21, 23), (23, 17), (17, ...</td>\n",
       "    </tr>\n",
       "    <tr>\n",
       "      <th>2</th>\n",
       "      <td>1iyo</td>\n",
       "      <td>CEF</td>\n",
       "      <td>SVQQQLEALEKSSGGRLGVALINTADNSQILYRADERFAMCSTSKV...</td>\n",
       "      <td>C=C1CS[C@H]([C@@H](C=O)NC(=O)C(=NOC)c2csc(N)n2...</td>\n",
       "      <td>{'rigidgroups_gt_frames': [[[[ -0.9025636   -0...</td>\n",
       "      <td>[(-1.789, -44.887, 63.321), (nan, nan, nan), (...</td>\n",
       "      <td>[(-6.8702167036559185, -0.4250690130944643, 0....</td>\n",
       "      <td>[(5, 4), (4, 2), (2, 0), (0, 40), (40, 42), (4...</td>\n",
       "    </tr>\n",
       "    <tr>\n",
       "      <th>3</th>\n",
       "      <td>5s7o</td>\n",
       "      <td>XJJ</td>\n",
       "      <td>QRTVARDITLLECVGKGRYGEVWRGSWQGENVAVKIFSSRDEKSWF...</td>\n",
       "      <td>O=C1CNCCN1</td>\n",
       "      <td>{'rigidgroups_gt_frames': [[[[-8.2274151e-01  ...</td>\n",
       "      <td>[(6.496, 37.594, -35.347), (nan, nan, nan), (7...</td>\n",
       "      <td>[(2.5714285714285716, 1.9032394707859828e-16, ...</td>\n",
       "      <td>[(0, 2), (2, 4), (4, 5), (5, 6), (5, 7), (7, 8...</td>\n",
       "    </tr>\n",
       "    <tr>\n",
       "      <th>4</th>\n",
       "      <td>6vuc</td>\n",
       "      <td>RLS</td>\n",
       "      <td>SNPPPPETSNPNKPKRQTNQLQYLLRVVLKTLWKHQFAWPFQQPVD...</td>\n",
       "      <td>CN1C[C@@H](c2ccc(S(=O)(=O)N3CCCCC3)cc2)CC1=O</td>\n",
       "      <td>{'rigidgroups_gt_frames': [[[[ 9.9730277e-01  ...</td>\n",
       "      <td>[(-10.435, -5.41, 12.772), (-11.641, -5.312, 1...</td>\n",
       "      <td>[(-7.0025400830107705, 1.6316778784387103, 0.0...</td>\n",
       "      <td>[(0, 35), (35, 34), (34, 4), (4, 6), (6, 8), (...</td>\n",
       "    </tr>\n",
       "    <tr>\n",
       "      <th>...</th>\n",
       "      <td>...</td>\n",
       "      <td>...</td>\n",
       "      <td>...</td>\n",
       "      <td>...</td>\n",
       "      <td>...</td>\n",
       "      <td>...</td>\n",
       "      <td>...</td>\n",
       "      <td>...</td>\n",
       "    </tr>\n",
       "    <tr>\n",
       "      <th>34272</th>\n",
       "      <td>6vxq</td>\n",
       "      <td>RQS</td>\n",
       "      <td>YGSWEIDPKDLTFLKELGTGQFGVVKYGKWRGQYDVAIKMIKEGSM...</td>\n",
       "      <td>O=C(NCc1ccc(-c2ncnc3[nH]ccc23)cc1)c1ccccc1</td>\n",
       "      <td>{'rigidgroups_gt_frames': [[[[ 0.80936086  0.3...</td>\n",
       "      <td>[(13.2, -7.469, 8.261), (nan, nan, nan), (13.2...</td>\n",
       "      <td>[(4.867117161770941, 2.4807207768480257, 0.0),...</td>\n",
       "      <td>[(17, 4), (4, 23), (23, 13), (13, 10), (10, 9)...</td>\n",
       "    </tr>\n",
       "    <tr>\n",
       "      <th>34273</th>\n",
       "      <td>7apv</td>\n",
       "      <td>9F2</td>\n",
       "      <td>FEGQMAEYPTISIDRFDRENLRARAYFLSHCHKDHMKGLRAPTLKR...</td>\n",
       "      <td>CON=C(C(=O)N[C@@H]1C(=O)N2C(C(=O)O)=C(CSc3nc(=...</td>\n",
       "      <td>{'rigidgroups_gt_frames': [[[[ 0.5408227   0.3...</td>\n",
       "      <td>[(-6.856, 7.889, 6.967), (-8.078, 7.93, 7.637)...</td>\n",
       "      <td>[(-7.324411940502822, -4.625058374149916, 0.0)...</td>\n",
       "      <td>[(55, 54), (54, 53), (53, 31), (31, 33), (33, ...</td>\n",
       "    </tr>\n",
       "    <tr>\n",
       "      <th>34274</th>\n",
       "      <td>2aad</td>\n",
       "      <td>2GP</td>\n",
       "      <td>ACDYTCGSNCYSSSDVSTAQAAGYKLHEDGETVGSNSYPKKYNNYE...</td>\n",
       "      <td>Nc1nc2c(ncn2[C@@H]2O[C@H](CO)[C@@H](O)[C@H]2OP...</td>\n",
       "      <td>{'rigidgroups_gt_frames': [[[[-0.8275972   0.1...</td>\n",
       "      <td>[(47.148, 27.661, -3.213), (46.21, 27.806, -2....</td>\n",
       "      <td>[(-4.836839894151689, 2.9444781193120653, 0.0)...</td>\n",
       "      <td>[(27, 30), (30, 33), (33, 35), (35, 18), (18, ...</td>\n",
       "    </tr>\n",
       "    <tr>\n",
       "      <th>34275</th>\n",
       "      <td>6gda</td>\n",
       "      <td>EVB</td>\n",
       "      <td>AEFKAGSAKKGATLFKTRCLQCHTVEKGGPHKVGPNLHGIFGRHSG...</td>\n",
       "      <td>O=S(=O)(O)c1cc2c(O)c(c1)Cc1cc(S(=O)(=O)O)cc(c1...</td>\n",
       "      <td>{'rigidgroups_gt_frames': [[[[ 5.9049261e-01  ...</td>\n",
       "      <td>[(-33.768, -9.798, 15.743), (nan, nan, nan), (...</td>\n",
       "      <td>[(3.557228638561006, -10.773567442510728, 0.0)...</td>\n",
       "      <td>[(12, 13), (13, 15), (15, 192), (192, 48), (48...</td>\n",
       "    </tr>\n",
       "    <tr>\n",
       "      <th>34276</th>\n",
       "      <td>6lzl</td>\n",
       "      <td>AYR</td>\n",
       "      <td>TGDERFYAEHLMPTLQGLLDPESAHRLAVRFTSLGLLPRARFQDSD...</td>\n",
       "      <td>O=C(C=CC=Cc1ccc2c(c1)OCO2)N1CCCCC1</td>\n",
       "      <td>{'rigidgroups_gt_frames': [[[[ 3.5729873e-01  ...</td>\n",
       "      <td>[(31.386, -22.452, 20.346), (nan, nan, nan), (...</td>\n",
       "      <td>[(3.7324962053877373, 2.44720338805367, 0.0), ...</td>\n",
       "      <td>[(9, 10), (10, 12), (12, 13), (13, 14), (14, 1...</td>\n",
       "    </tr>\n",
       "  </tbody>\n",
       "</table>\n",
       "<p>34277 rows × 8 columns</p>\n",
       "</div>"
      ],
      "text/plain": [
       "      pdb_id lig_id                                                seq  \\\n",
       "0       1ict    T44  CPLMVKVLDAVRGSPAINVAVHVFRKAADDTWEPFASGKTSESGEL...   \n",
       "1       1v1j    FA3  PRSLANAPIMILNGPNLNLLGQRQPEIYGSDTLADVEALCVKAAAA...   \n",
       "2       1iyo    CEF  SVQQQLEALEKSSGGRLGVALINTADNSQILYRADERFAMCSTSKV...   \n",
       "3       5s7o    XJJ  QRTVARDITLLECVGKGRYGEVWRGSWQGENVAVKIFSSRDEKSWF...   \n",
       "4       6vuc    RLS  SNPPPPETSNPNKPKRQTNQLQYLLRVVLKTLWKHQFAWPFQQPVD...   \n",
       "...      ...    ...                                                ...   \n",
       "34272   6vxq    RQS  YGSWEIDPKDLTFLKELGTGQFGVVKYGKWRGQYDVAIKMIKEGSM...   \n",
       "34273   7apv    9F2  FEGQMAEYPTISIDRFDRENLRARAYFLSHCHKDHMKGLRAPTLKR...   \n",
       "34274   2aad    2GP  ACDYTCGSNCYSSSDVSTAQAAGYKLHEDGETVGSNSYPKKYNNYE...   \n",
       "34275   6gda    EVB  AEFKAGSAKKGATLFKTRCLQCHTVEKGGPHKVGPNLHGIFGRHSG...   \n",
       "34276   6lzl    AYR  TGDERFYAEHLMPTLQGLLDPESAHRLAVRFTSLGLLPRARFQDSD...   \n",
       "\n",
       "                                                  smiles  \\\n",
       "0      N[C@@H](Cc1cc(I)c(Oc2cc(I)c(O)c(I)c2)c(I)c1)C(...   \n",
       "1                O=C(O)[C@]1(O)C=C(F)[C@@H](O)[C@H](O)C1   \n",
       "2      C=C1CS[C@H]([C@@H](C=O)NC(=O)C(=NOC)c2csc(N)n2...   \n",
       "3                                             O=C1CNCCN1   \n",
       "4           CN1C[C@@H](c2ccc(S(=O)(=O)N3CCCCC3)cc2)CC1=O   \n",
       "...                                                  ...   \n",
       "34272         O=C(NCc1ccc(-c2ncnc3[nH]ccc23)cc1)c1ccccc1   \n",
       "34273  CON=C(C(=O)N[C@@H]1C(=O)N2C(C(=O)O)=C(CSc3nc(=...   \n",
       "34274  Nc1nc2c(ncn2[C@@H]2O[C@H](CO)[C@@H](O)[C@H]2OP...   \n",
       "34275  O=S(=O)(O)c1cc2c(O)c(c1)Cc1cc(S(=O)(=O)O)cc(c1...   \n",
       "34276                 O=C(C=CC=Cc1ccc2c(c1)OCO2)N1CCCCC1   \n",
       "\n",
       "                                       receptor_features  \\\n",
       "0      {'rigidgroups_gt_frames': [[[[ 9.7112149e-01 -...   \n",
       "1      {'rigidgroups_gt_frames': [[[[-0.09479982 -0.8...   \n",
       "2      {'rigidgroups_gt_frames': [[[[ -0.9025636   -0...   \n",
       "3      {'rigidgroups_gt_frames': [[[[-8.2274151e-01  ...   \n",
       "4      {'rigidgroups_gt_frames': [[[[ 9.9730277e-01  ...   \n",
       "...                                                  ...   \n",
       "34272  {'rigidgroups_gt_frames': [[[[ 0.80936086  0.3...   \n",
       "34273  {'rigidgroups_gt_frames': [[[[ 0.5408227   0.3...   \n",
       "34274  {'rigidgroups_gt_frames': [[[[-0.8275972   0.1...   \n",
       "34275  {'rigidgroups_gt_frames': [[[[ 5.9049261e-01  ...   \n",
       "34276  {'rigidgroups_gt_frames': [[[[ 3.5729873e-01  ...   \n",
       "\n",
       "                                              ligand_xyz  \\\n",
       "0      [(-7.698, -45.225, 30.127), (-6.968, -45.819, ...   \n",
       "1      [(30.735, 53.717, 58.584), (nan, nan, nan), (2...   \n",
       "2      [(-1.789, -44.887, 63.321), (nan, nan, nan), (...   \n",
       "3      [(6.496, 37.594, -35.347), (nan, nan, nan), (7...   \n",
       "4      [(-10.435, -5.41, 12.772), (-11.641, -5.312, 1...   \n",
       "...                                                  ...   \n",
       "34272  [(13.2, -7.469, 8.261), (nan, nan, nan), (13.2...   \n",
       "34273  [(-6.856, 7.889, 6.967), (-8.078, 7.93, 7.637)...   \n",
       "34274  [(47.148, 27.661, -3.213), (46.21, 27.806, -2....   \n",
       "34275  [(-33.768, -9.798, 15.743), (nan, nan, nan), (...   \n",
       "34276  [(31.386, -22.452, 20.346), (nan, nan, nan), (...   \n",
       "\n",
       "                                           ligand_xyz_2d  \\\n",
       "0      [(-5.063699296693056, 1.3648647122225173, 0.0)...   \n",
       "1      [(2.3944077361532012, 1.7261843001158517, 0.0)...   \n",
       "2      [(-6.8702167036559185, -0.4250690130944643, 0....   \n",
       "3      [(2.5714285714285716, 1.9032394707859828e-16, ...   \n",
       "4      [(-7.0025400830107705, 1.6316778784387103, 0.0...   \n",
       "...                                                  ...   \n",
       "34272  [(4.867117161770941, 2.4807207768480257, 0.0),...   \n",
       "34273  [(-7.324411940502822, -4.625058374149916, 0.0)...   \n",
       "34274  [(-4.836839894151689, 2.9444781193120653, 0.0)...   \n",
       "34275  [(3.557228638561006, -10.773567442510728, 0.0)...   \n",
       "34276  [(3.7324962053877373, 2.44720338805367, 0.0), ...   \n",
       "\n",
       "                                            ligand_bonds  \n",
       "0      [(4, 6), (6, 7), (7, 11), (11, 32), (32, 36), ...  \n",
       "1      [(25, 15), (15, 21), (21, 23), (23, 17), (17, ...  \n",
       "2      [(5, 4), (4, 2), (2, 0), (0, 40), (40, 42), (4...  \n",
       "3      [(0, 2), (2, 4), (4, 5), (5, 6), (5, 7), (7, 8...  \n",
       "4      [(0, 35), (35, 34), (34, 4), (4, 6), (6, 8), (...  \n",
       "...                                                  ...  \n",
       "34272  [(17, 4), (4, 23), (23, 13), (13, 10), (10, 9)...  \n",
       "34273  [(55, 54), (54, 53), (53, 31), (31, 33), (33, ...  \n",
       "34274  [(27, 30), (30, 33), (33, 35), (35, 18), (18, ...  \n",
       "34275  [(12, 13), (13, 15), (15, 192), (192, 48), (48...  \n",
       "34276  [(9, 10), (10, 12), (12, 13), (13, 14), (14, 1...  \n",
       "\n",
       "[34277 rows x 8 columns]"
      ]
     },
     "execution_count": 3,
     "metadata": {},
     "output_type": "execute_result"
    }
   ],
   "source": [
    "train_df"
   ]
  },
  {
   "cell_type": "code",
   "execution_count": 4,
   "id": "c9c73444",
   "metadata": {},
   "outputs": [],
   "source": [
    "#random.seed(42)\n",
    "\n",
    "#train_df = train_df.sample(n=1000, random_state=42)\n",
    "train_df = train_df.sample(n=1000)\n",
    "#test_df = test_df.sample(n=1000, random_state=42)\n",
    "test_df = test_df.sample(n=1000)"
   ]
  },
  {
   "cell_type": "code",
   "execution_count": 5,
   "id": "d0ae2b9c",
   "metadata": {},
   "outputs": [],
   "source": [
    "f = open('pdb_id_binds_to_lig_id.pckl', 'rb')\n",
    "pdb_id_binds_to_lig_id = pkl.load(f)\n",
    "f.close()\n"
   ]
  },
  {
   "cell_type": "code",
   "execution_count": 6,
   "id": "8d540ffe",
   "metadata": {},
   "outputs": [],
   "source": [
    "def generate_negative_samples(df, negative_samples_per_positive_sample, pdb_id_binds_to_lig_id):\n",
    "    negative_samples = []\n",
    "    n_negative_samples = negative_samples_per_positive_sample*len(df)\n",
    "    \n",
    "    while len(negative_samples) < n_negative_samples:\n",
    "        idx1, idx2 = np.random.choice(range(len(df)), 2, replace=False)\n",
    "        pdb_id = list(df['pdb_id'])[idx1]\n",
    "        lig_id = list(df['lig_id'])[idx2]\n",
    "        \n",
    "        if lig_id not in pdb_id_binds_to_lig_id[pdb_id]:\n",
    "            negative_sample = df.iloc[idx1].copy()\n",
    "            negative_sample['ligand_xyz'] = df.iloc[idx2]['ligand_xyz']\n",
    "            negative_sample['ligand_xyz_2d'] = df.iloc[idx2]['ligand_xyz_2d']\n",
    "            negative_sample['ligand_bonds'] = df.iloc[idx2]['ligand_bonds']\n",
    "            negative_sample['smiles'] = df.iloc[idx2]['smiles']\n",
    "            negative_samples.append(negative_sample)\n",
    "            \n",
    "    return pd.DataFrame(negative_samples)"
   ]
  },
  {
   "cell_type": "code",
   "execution_count": 7,
   "id": "25384f54",
   "metadata": {},
   "outputs": [],
   "source": [
    "negative_samples_per_positive_sample = 2"
   ]
  },
  {
   "cell_type": "code",
   "execution_count": 8,
   "id": "adc621b9",
   "metadata": {},
   "outputs": [],
   "source": [
    "n_positive_samples = len(train_df)\n",
    "n_negative_samples = negative_samples_per_positive_sample * n_positive_samples\n",
    "\n",
    "negative_samples = generate_negative_samples(train_df, negative_samples_per_positive_sample, pdb_id_binds_to_lig_id)\n",
    "train_df = pd.concat([train_df, negative_samples], ignore_index=True)\n",
    "y_train = pd.concat([pd.Series(1, index=range(n_positive_samples)), \n",
    "                     pd.Series(0, index=range(n_negative_samples))])"
   ]
  },
  {
   "cell_type": "code",
   "execution_count": 9,
   "id": "e239627a",
   "metadata": {},
   "outputs": [],
   "source": [
    "n_positive_samples = len(test_df)\n",
    "n_negative_samples = negative_samples_per_positive_sample * n_positive_samples\n",
    "\n",
    "negative_samples = generate_negative_samples(test_df, negative_samples_per_positive_sample, pdb_id_binds_to_lig_id)\n",
    "test_df = pd.concat([test_df, negative_samples], ignore_index=True)\n",
    "y_test = pd.concat([pd.Series(1, index=range(n_positive_samples)),\n",
    "                    pd.Series(0, index=range(n_negative_samples))])"
   ]
  },
  {
   "cell_type": "code",
   "execution_count": 10,
   "id": "9ec2b39c",
   "metadata": {},
   "outputs": [],
   "source": [
    "seq_vectorizer = TfidfVectorizer(analyzer='char', ngram_range=(1, 3))\n",
    "seq_train = seq_vectorizer.fit_transform(train_df['seq'])\n",
    "seq_test  = seq_vectorizer.transform(test_df['seq'])\n"
   ]
  },
  {
   "cell_type": "code",
   "execution_count": 11,
   "id": "365fdd7c",
   "metadata": {},
   "outputs": [
    {
     "name": "stdout",
     "output_type": "stream",
     "text": [
      "  (0, 96)\t0.02788335309812557\n",
      "  (0, 3906)\t0.024024429901115845\n",
      "  (0, 6676)\t0.020257423893133352\n",
      "  (0, 5950)\t0.024934880075605077\n",
      "  (0, 5054)\t0.03189842544507267\n",
      "  (0, 3285)\t0.030156198839325743\n",
      "  (0, 3631)\t0.026435279838287223\n",
      "  (0, 1480)\t0.022842702066718967\n",
      "  (0, 4834)\t0.02496858401424989\n",
      "  (0, 7598)\t0.02660551479631104\n",
      "  (0, 5994)\t0.03022968505363155\n",
      "  (0, 6777)\t0.029462396116154595\n",
      "  (0, 3370)\t0.02772877337809618\n",
      "  (0, 6649)\t0.023434480312922928\n",
      "  (0, 330)\t0.024801728760585295\n",
      "  (0, 879)\t0.023222685742556266\n",
      "  (0, 1781)\t0.02705097047611193\n",
      "  (0, 1389)\t0.02700507322158055\n",
      "  (0, 932)\t0.024867974830247212\n",
      "  (0, 6531)\t0.024901344237103547\n",
      "  (0, 5513)\t0.025988208025398127\n",
      "  (0, 2006)\t0.029016095350990805\n",
      "  (0, 7456)\t0.02705097047611193\n",
      "  (0, 4273)\t0.022892142890070764\n",
      "  (0, 5402)\t0.02192333087300136\n",
      "  :\t:\n",
      "  (2999, 2143)\t0.014875458796123129\n",
      "  (2999, 1386)\t0.011665338774983483\n",
      "  (2999, 6983)\t0.02416129847669136\n",
      "  (2999, 3378)\t0.02321926160902859\n",
      "  (2999, 4910)\t0.050098109504633566\n",
      "  (2999, 5189)\t0.1383233651977445\n",
      "  (2999, 2606)\t0.05420628069607741\n",
      "  (2999, 4342)\t0.0643282543193203\n",
      "  (2999, 862)\t0.1619159034550599\n",
      "  (2999, 7797)\t0.05721524380722357\n",
      "  (2999, 6053)\t0.13050820382816736\n",
      "  (2999, 3900)\t0.2072777354917952\n",
      "  (2999, 2164)\t0.25359283619586487\n",
      "  (2999, 3467)\t0.1154616831901279\n",
      "  (2999, 7355)\t0.2541850475797274\n",
      "  (2999, 0)\t0.17656992282634407\n",
      "  (2999, 441)\t0.05028640035258203\n",
      "  (2999, 6484)\t0.22441925912497182\n",
      "  (2999, 5620)\t0.11557716469487092\n",
      "  (2999, 8352)\t0.14600799659761915\n",
      "  (2999, 1737)\t0.15394891092017055\n",
      "  (2999, 1299)\t0.16143104288960838\n",
      "  (2999, 6917)\t0.17674652219711795\n",
      "  (2999, 3035)\t0.18504674680578276\n",
      "  (2999, 4761)\t0.1075848395982457\n"
     ]
    }
   ],
   "source": [
    "print(seq_train)"
   ]
  },
  {
   "cell_type": "code",
   "execution_count": 12,
   "id": "472bdfbd",
   "metadata": {},
   "outputs": [],
   "source": [
    "smiles_vectorizer = TfidfVectorizer(analyzer='char', ngram_range=(1, 3))\n",
    "smiles_train = smiles_vectorizer.fit_transform(train_df['smiles'])\n",
    "smiles_test  = smiles_vectorizer.transform(test_df['smiles'])"
   ]
  },
  {
   "cell_type": "code",
   "execution_count": 13,
   "id": "395004ca",
   "metadata": {},
   "outputs": [
    {
     "name": "stdout",
     "output_type": "stream",
     "text": [
      "  (0, 128)\t0.0898653853304996\n",
      "  (0, 290)\t0.10396981244955572\n",
      "  (0, 372)\t0.11816008324067968\n",
      "  (0, 768)\t0.11878828374859055\n",
      "  (0, 726)\t0.06122819641657821\n",
      "  (0, 35)\t0.05694405409386167\n",
      "  (0, 390)\t0.09376666392078176\n",
      "  (0, 135)\t0.06078966025344677\n",
      "  (0, 364)\t0.10582348589781036\n",
      "  (0, 766)\t0.07959562290901524\n",
      "  (0, 831)\t0.1392869539447543\n",
      "  (0, 117)\t0.08560849573929441\n",
      "  (0, 946)\t0.09202186978373973\n",
      "  (0, 849)\t0.13632423498155674\n",
      "  (0, 43)\t0.06499500897347128\n",
      "  (0, 939)\t0.07070270805754271\n",
      "  (0, 848)\t0.07491151408941606\n",
      "  (0, 839)\t0.13014778189228185\n",
      "  (0, 399)\t0.06799898589066028\n",
      "  (0, 774)\t0.1221172876723753\n",
      "  (0, 999)\t0.17770256031422874\n",
      "  (0, 64)\t0.07196175365079101\n",
      "  (0, 718)\t0.059043989765048634\n",
      "  (0, 318)\t0.07980473050379842\n",
      "  (0, 967)\t0.08895091255967605\n",
      "  :\t:\n",
      "  (2999, 715)\t0.07128583734331935\n",
      "  (2999, 1038)\t0.06201899473732817\n",
      "  (2999, 826)\t0.08753420215010327\n",
      "  (2999, 837)\t0.07845229465426565\n",
      "  (2999, 829)\t0.034332371193711686\n",
      "  (2999, 721)\t0.08388161344448265\n",
      "  (2999, 942)\t0.055870902951830566\n",
      "  (2999, 389)\t0.04433263677060787\n",
      "  (2999, 764)\t0.08760035552732635\n",
      "  (2999, 992)\t0.12362314574032116\n",
      "  (2999, 54)\t0.0830914435052332\n",
      "  (2999, 32)\t0.0811492183930277\n",
      "  (2999, 104)\t0.16825915095181349\n",
      "  (2999, 1034)\t0.04774919713015296\n",
      "  (2999, 710)\t0.16054167609844394\n",
      "  (2999, 734)\t0.05126382888764305\n",
      "  (2999, 824)\t0.15628543293805233\n",
      "  (2999, 354)\t0.08212517717358477\n",
      "  (2999, 278)\t0.05552756667499922\n",
      "  (2999, 933)\t0.14589721702160185\n",
      "  (2999, 81)\t0.1682354780452179\n",
      "  (2999, 1033)\t0.06415007957602835\n",
      "  (2999, 13)\t0.1682354780452179\n",
      "  (2999, 196)\t0.044757924016781345\n",
      "  (2999, 703)\t0.5024318704791924\n"
     ]
    }
   ],
   "source": [
    "print(smiles_train)"
   ]
  },
  {
   "cell_type": "code",
   "execution_count": 14,
   "id": "c2476332",
   "metadata": {},
   "outputs": [],
   "source": [
    "X_train = pd.concat([pd.DataFrame(seq_train.toarray()), pd.DataFrame(smiles_train.toarray())], axis=1) \n",
    "X_test = pd.concat([pd.DataFrame(seq_test.toarray()), pd.DataFrame(smiles_test.toarray())], axis=1)\n"
   ]
  },
  {
   "cell_type": "code",
   "execution_count": 15,
   "id": "737df83d",
   "metadata": {},
   "outputs": [],
   "source": [
    "def k_fold_cross_validation_scores(clf,x,y,k):\n",
    "\n",
    "    kf = KFold(n_splits=k, shuffle=True, random_state=21)\n",
    "\n",
    "    Tot_acc=[]\n",
    "    Tot_pre=[]\n",
    "    Tot_rec=[]\n",
    "    Tot_f1=[]\n",
    "\n",
    "    i=0\n",
    "\n",
    "    for train, test in kf.split(x):\n",
    "\n",
    "        i=i+1\n",
    "        print(\"\\nFold %d\" %(i))\n",
    "        \n",
    "        x_train, x_test = x.iloc[train],  x.iloc[test]\n",
    "        y_train, y_test = y.iloc[train], y.iloc[test]\n",
    "        y_pred = clf.fit(x_train, y_train).predict(x_test)\n",
    "\n",
    "        acc=accuracy_score(y_test, y_pred)\n",
    "        pre=precision_score(y_test, y_pred)\n",
    "        rec=recall_score(y_test, y_pred)\n",
    "        f1=f1_score(y_test, y_pred)\n",
    "        \n",
    "        Tot_acc.append(acc)\n",
    "        Tot_pre.append(pre)\n",
    "        Tot_rec.append(rec)\n",
    "        Tot_f1.append(f1)\n",
    "\n",
    "    print (\"\\nAverage Accuracy: %2.3f\" % (mean(Tot_acc)))\n",
    "    print (\"\\nAverage Precision: %2.3f\" % (mean(Tot_pre)))\n",
    "    print (\"\\nAverage Recall: %2.3f\" % (mean(Tot_rec)))\n",
    "    print (\"\\nAverage F1-score: %2.3f\" % (mean(Tot_f1)))"
   ]
  },
  {
   "cell_type": "code",
   "execution_count": 16,
   "id": "39620334",
   "metadata": {},
   "outputs": [
    {
     "name": "stdout",
     "output_type": "stream",
     "text": [
      "SVM:\n",
      "\n",
      "Fold 1\n",
      "\n",
      "Fold 2\n"
     ]
    },
    {
     "name": "stderr",
     "output_type": "stream",
     "text": [
      "C:\\Users\\13404\\anaconda3\\lib\\site-packages\\sklearn\\metrics\\_classification.py:1509: UndefinedMetricWarning: Precision is ill-defined and being set to 0.0 due to no predicted samples. Use `zero_division` parameter to control this behavior.\n",
      "  _warn_prf(average, modifier, f\"{metric.capitalize()} is\", len(result))\n"
     ]
    },
    {
     "name": "stdout",
     "output_type": "stream",
     "text": [
      "\n",
      "Fold 3\n",
      "\n",
      "Fold 4\n",
      "\n",
      "Fold 5\n"
     ]
    },
    {
     "name": "stderr",
     "output_type": "stream",
     "text": [
      "C:\\Users\\13404\\anaconda3\\lib\\site-packages\\sklearn\\metrics\\_classification.py:1509: UndefinedMetricWarning: Precision is ill-defined and being set to 0.0 due to no predicted samples. Use `zero_division` parameter to control this behavior.\n",
      "  _warn_prf(average, modifier, f\"{metric.capitalize()} is\", len(result))\n"
     ]
    },
    {
     "name": "stdout",
     "output_type": "stream",
     "text": [
      "\n",
      "Average Accuracy: 0.667\n",
      "\n",
      "Average Precision: 0.600\n",
      "\n",
      "Average Recall: 0.002\n",
      "\n",
      "Average F1-score: 0.004\n",
      "\n",
      "Logistic Regression:\n",
      "\n",
      "Fold 1\n",
      "\n",
      "Fold 2\n",
      "\n",
      "Fold 3\n",
      "\n",
      "Fold 4\n",
      "\n",
      "Fold 5\n",
      "\n",
      "Average Accuracy: 0.659\n",
      "\n",
      "Average Precision: 0.075\n",
      "\n",
      "Average Recall: 0.002\n",
      "\n",
      "Average F1-score: 0.004\n",
      "\n",
      "Random Forest:\n",
      "\n",
      "Fold 1\n",
      "\n",
      "Fold 2\n"
     ]
    },
    {
     "name": "stderr",
     "output_type": "stream",
     "text": [
      "C:\\Users\\13404\\anaconda3\\lib\\site-packages\\sklearn\\metrics\\_classification.py:1509: UndefinedMetricWarning: Precision is ill-defined and being set to 0.0 due to no predicted samples. Use `zero_division` parameter to control this behavior.\n",
      "  _warn_prf(average, modifier, f\"{metric.capitalize()} is\", len(result))\n"
     ]
    },
    {
     "name": "stdout",
     "output_type": "stream",
     "text": [
      "\n",
      "Fold 3\n"
     ]
    },
    {
     "name": "stderr",
     "output_type": "stream",
     "text": [
      "C:\\Users\\13404\\anaconda3\\lib\\site-packages\\sklearn\\metrics\\_classification.py:1509: UndefinedMetricWarning: Precision is ill-defined and being set to 0.0 due to no predicted samples. Use `zero_division` parameter to control this behavior.\n",
      "  _warn_prf(average, modifier, f\"{metric.capitalize()} is\", len(result))\n"
     ]
    },
    {
     "name": "stdout",
     "output_type": "stream",
     "text": [
      "\n",
      "Fold 4\n",
      "\n",
      "Fold 5\n",
      "\n",
      "Average Accuracy: 0.666\n",
      "\n",
      "Average Precision: 0.000\n",
      "\n",
      "Average Recall: 0.000\n",
      "\n",
      "Average F1-score: 0.000\n"
     ]
    },
    {
     "name": "stderr",
     "output_type": "stream",
     "text": [
      "C:\\Users\\13404\\anaconda3\\lib\\site-packages\\sklearn\\metrics\\_classification.py:1509: UndefinedMetricWarning: Precision is ill-defined and being set to 0.0 due to no predicted samples. Use `zero_division` parameter to control this behavior.\n",
      "  _warn_prf(average, modifier, f\"{metric.capitalize()} is\", len(result))\n"
     ]
    }
   ],
   "source": [
    "x= pd.concat([X_train,X_test])\n",
    "y= pd.concat([y_train,y_test])\n",
    "\n",
    "print(\"SVM:\")\n",
    "svm = SVC(kernel='rbf', C=1, gamma='scale')\n",
    "k_fold_cross_validation_scores(clf=svm, x=x, y=y, k=5)\n",
    "\n",
    "print(\"\\nLogistic Regression:\")\n",
    "lr = LogisticRegression(C=1, solver='liblinear', random_state=42)\n",
    "k_fold_cross_validation_scores(clf=lr, x=x, y=y, k=5)\n",
    "\n",
    "print(\"\\nRandom Forest:\")\n",
    "rf = RandomForestClassifier(n_estimators=100, max_depth=10, random_state=42)\n",
    "k_fold_cross_validation_scores(clf=rf, x=x, y=y, k=5)"
   ]
  },
  {
   "cell_type": "code",
   "execution_count": 32,
   "id": "da1942b0",
   "metadata": {},
   "outputs": [
    {
     "name": "stdout",
     "output_type": "stream",
     "text": [
      "SVM:\n",
      "Accuracy: 0.6673\n",
      "Precision: 1.0000\n",
      "Recall: 0.0020\n",
      "F1 score: 0.0040\n"
     ]
    }
   ],
   "source": [
    "svm = SVC(kernel='rbf', C=1, gamma='scale')\n",
    "svm.fit(X_train, y_train)\n",
    "\n",
    "y_pred = svm.predict(X_test)\n",
    "accuracy = accuracy_score(y_test, y_pred)\n",
    "precision = precision_score(y_test, y_pred)\n",
    "recall = recall_score(y_test, y_pred)\n",
    "f1 = f1_score(y_test, y_pred)\n",
    "\n",
    "print(f'SVM:')\n",
    "print(f'Accuracy: {accuracy:.4f}')\n",
    "print(f'Precision: {precision:.4f}')  \n",
    "print(f'Recall: {recall:.4f}')\n",
    "print(f'F1 score: {f1:.4f}')"
   ]
  },
  {
   "cell_type": "code",
   "execution_count": 33,
   "id": "b374b703",
   "metadata": {},
   "outputs": [
    {
     "name": "stdout",
     "output_type": "stream",
     "text": [
      "Logistic Regression:\n",
      "Accuracy: 0.6647\n",
      "Precision: 0.2500\n",
      "Recall: 0.0030\n",
      "F1 score: 0.0059\n"
     ]
    }
   ],
   "source": [
    "lr = LogisticRegression(C=1, solver='liblinear', random_state=42)\n",
    "lr.fit(X_train, y_train)\n",
    "\n",
    "y_pred = lr.predict(X_test)\n",
    "accuracy = accuracy_score(y_test, y_pred)\n",
    "precision = precision_score(y_test, y_pred)\n",
    "recall = recall_score(y_test, y_pred)\n",
    "f1 = f1_score(y_test, y_pred)\n",
    "\n",
    "print(f'Logistic Regression:') \n",
    "print(f'Accuracy: {accuracy:.4f}')\n",
    "print(f'Precision: {precision:.4f}')\n",
    "print(f'Recall: {recall:.4f}')\n",
    "print(f'F1 score: {f1:.4f}')"
   ]
  },
  {
   "cell_type": "code",
   "execution_count": 34,
   "id": "69da049b",
   "metadata": {},
   "outputs": [
    {
     "name": "stdout",
     "output_type": "stream",
     "text": [
      "Random Forest:\n",
      "Accuracy: 0.6667\n",
      "Precision: 0.0000\n",
      "Recall: 0.0000\n",
      "F1 score: 0.0000\n"
     ]
    },
    {
     "name": "stderr",
     "output_type": "stream",
     "text": [
      "C:\\Users\\13404\\anaconda3\\lib\\site-packages\\sklearn\\metrics\\_classification.py:1509: UndefinedMetricWarning: Precision is ill-defined and being set to 0.0 due to no predicted samples. Use `zero_division` parameter to control this behavior.\n",
      "  _warn_prf(average, modifier, f\"{metric.capitalize()} is\", len(result))\n"
     ]
    }
   ],
   "source": [
    "rf = RandomForestClassifier(n_estimators=100, max_depth=10, random_state=42)\n",
    "rf.fit(X_train, y_train)\n",
    "\n",
    "y_pred = rf.predict(X_test)\n",
    "accuracy = accuracy_score(y_test, y_pred)  \n",
    "precision = precision_score(y_test, y_pred)\n",
    "recall = recall_score(y_test, y_pred)\n",
    "f1 = f1_score(y_test, y_pred)\n",
    "\n",
    "print(f'Random Forest:')\n",
    "print(f'Accuracy: {accuracy:.4f}')\n",
    "print(f'Precision: {precision:.4f}')\n",
    "print(f'Recall: {recall:.4f}')\n",
    "print(f'F1 score: {f1:.4f}')"
   ]
  },
  {
   "cell_type": "code",
   "execution_count": null,
   "id": "0fd4dc2c",
   "metadata": {},
   "outputs": [],
   "source": []
  }
 ],
 "metadata": {
  "kernelspec": {
   "display_name": "Python 3 (ipykernel)",
   "language": "python",
   "name": "python3"
  },
  "language_info": {
   "codemirror_mode": {
    "name": "ipython",
    "version": 3
   },
   "file_extension": ".py",
   "mimetype": "text/x-python",
   "name": "python",
   "nbconvert_exporter": "python",
   "pygments_lexer": "ipython3",
   "version": "3.9.18"
  }
 },
 "nbformat": 4,
 "nbformat_minor": 5
}
